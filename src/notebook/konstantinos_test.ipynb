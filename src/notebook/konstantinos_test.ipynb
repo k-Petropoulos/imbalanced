{
 "cells": [
  {
   "cell_type": "code",
   "execution_count": 1,
   "metadata": {},
   "outputs": [],
   "source": [
    "from function import *\n",
    "df = pd.read_csv(\"../data/creditcard.csv\")"
   ]
  },
  {
   "cell_type": "code",
   "execution_count": 2,
   "metadata": {},
   "outputs": [],
   "source": [
    "df.dropna(inplace= True)"
   ]
  },
  {
   "cell_type": "markdown",
   "metadata": {},
   "source": [
    "# fine tune oversampling ratio"
   ]
  },
  {
   "cell_type": "code",
   "execution_count": 14,
   "metadata": {},
   "outputs": [],
   "source": [
    "overSam_methods = [smote_simple, smote_borderline, adasyn_method]\n",
    "plots = plot_tune_sampling( df, methods= overSam_methods, numStrategies= 10 )"
   ]
  },
  {
   "cell_type": "code",
   "execution_count": 4,
   "metadata": {},
   "outputs": [],
   "source": [
    "pic_names = [\"smote_simple_rf\", \"smote_simple_xgb\", \"smote_simple_logReg\",\n",
    "             \"smote_borderline_rf\", \"smote_borderline_xgb\", \"smote_borderline_logReg\",\n",
    "             \"adasyn_method_rf\", \"adasyn_method_xgb\", \"adasyn_method_logReg\"]\n",
    "\n",
    "for plot, pic in zip(plots, pic_names):\n",
    "    plot.figure\n",
    "    plt.savefig( pic+\".png\" )"
   ]
  },
  {
   "cell_type": "markdown",
   "metadata": {},
   "source": [
    "# optimum combined method"
   ]
  },
  {
   "cell_type": "code",
   "execution_count": 15,
   "metadata": {},
   "outputs": [],
   "source": [
    "underMethods = [random_under_sampling, neighbourhood_clear_rule, nearest_neighbours, KMeansUnderSample]\n",
    "\n",
    "results = df_tune_sampling( df, methods= underMethods, numStrategies=12 )\n",
    "results.to_csv('underSampleMetrics.csv')"
   ]
  },
  {
   "cell_type": "code",
   "execution_count": 3,
   "metadata": {},
   "outputs": [
    {
     "data": {
      "text/html": [
       "<div>\n",
       "<style scoped>\n",
       "    .dataframe tbody tr th:only-of-type {\n",
       "        vertical-align: middle;\n",
       "    }\n",
       "\n",
       "    .dataframe tbody tr th {\n",
       "        vertical-align: top;\n",
       "    }\n",
       "\n",
       "    .dataframe thead th {\n",
       "        text-align: right;\n",
       "    }\n",
       "</style>\n",
       "<table border=\"1\" class=\"dataframe\">\n",
       "  <thead>\n",
       "    <tr style=\"text-align: right;\">\n",
       "      <th></th>\n",
       "      <th>avg_prcs</th>\n",
       "      <th>method</th>\n",
       "      <th>model</th>\n",
       "      <th>ratio</th>\n",
       "    </tr>\n",
       "  </thead>\n",
       "  <tbody>\n",
       "    <tr>\n",
       "      <th>0</th>\n",
       "      <td>0.827055</td>\n",
       "      <td>KMeansUnderSample</td>\n",
       "      <td>xgboost_model</td>\n",
       "      <td>0.003492</td>\n",
       "    </tr>\n",
       "    <tr>\n",
       "      <th>1</th>\n",
       "      <td>0.823305</td>\n",
       "      <td>neighbourhood_clear_rule</td>\n",
       "      <td>random_forest</td>\n",
       "      <td>0.456450</td>\n",
       "    </tr>\n",
       "    <tr>\n",
       "      <th>2</th>\n",
       "      <td>0.791656</td>\n",
       "      <td>KMeansUnderSample</td>\n",
       "      <td>random_forest</td>\n",
       "      <td>0.003492</td>\n",
       "    </tr>\n",
       "    <tr>\n",
       "      <th>3</th>\n",
       "      <td>0.756274</td>\n",
       "      <td>random_under_sampling</td>\n",
       "      <td>random_forest</td>\n",
       "      <td>0.003492</td>\n",
       "    </tr>\n",
       "    <tr>\n",
       "      <th>4</th>\n",
       "      <td>0.756274</td>\n",
       "      <td>neighbourhood_clear_rule</td>\n",
       "      <td>xgboost_model</td>\n",
       "      <td>0.003492</td>\n",
       "    </tr>\n",
       "    <tr>\n",
       "      <th>5</th>\n",
       "      <td>0.692100</td>\n",
       "      <td>random_under_sampling</td>\n",
       "      <td>xgboost_model</td>\n",
       "      <td>0.003492</td>\n",
       "    </tr>\n",
       "    <tr>\n",
       "      <th>6</th>\n",
       "      <td>0.519439</td>\n",
       "      <td>nearest_neighbours</td>\n",
       "      <td>random_forest</td>\n",
       "      <td>0.094083</td>\n",
       "    </tr>\n",
       "    <tr>\n",
       "      <th>7</th>\n",
       "      <td>0.447652</td>\n",
       "      <td>nearest_neighbours</td>\n",
       "      <td>xgboost_model</td>\n",
       "      <td>0.003492</td>\n",
       "    </tr>\n",
       "    <tr>\n",
       "      <th>8</th>\n",
       "      <td>0.393528</td>\n",
       "      <td>KMeansUnderSample</td>\n",
       "      <td>elasticNet</td>\n",
       "      <td>0.818817</td>\n",
       "    </tr>\n",
       "    <tr>\n",
       "      <th>9</th>\n",
       "      <td>0.022663</td>\n",
       "      <td>random_under_sampling</td>\n",
       "      <td>elasticNet</td>\n",
       "      <td>0.909408</td>\n",
       "    </tr>\n",
       "    <tr>\n",
       "      <th>10</th>\n",
       "      <td>0.003132</td>\n",
       "      <td>neighbourhood_clear_rule</td>\n",
       "      <td>elasticNet</td>\n",
       "      <td>0.003492</td>\n",
       "    </tr>\n",
       "    <tr>\n",
       "      <th>11</th>\n",
       "      <td>0.003132</td>\n",
       "      <td>nearest_neighbours</td>\n",
       "      <td>elasticNet</td>\n",
       "      <td>0.003492</td>\n",
       "    </tr>\n",
       "  </tbody>\n",
       "</table>\n",
       "</div>"
      ],
      "text/plain": [
       "    avg_prcs                     method           model     ratio\n",
       "0   0.827055          KMeansUnderSample   xgboost_model  0.003492\n",
       "1   0.823305   neighbourhood_clear_rule   random_forest  0.456450\n",
       "2   0.791656          KMeansUnderSample   random_forest  0.003492\n",
       "3   0.756274      random_under_sampling   random_forest  0.003492\n",
       "4   0.756274   neighbourhood_clear_rule   xgboost_model  0.003492\n",
       "5   0.692100      random_under_sampling   xgboost_model  0.003492\n",
       "6   0.519439         nearest_neighbours   random_forest  0.094083\n",
       "7   0.447652         nearest_neighbours   xgboost_model  0.003492\n",
       "8   0.393528          KMeansUnderSample      elasticNet  0.818817\n",
       "9   0.022663      random_under_sampling      elasticNet  0.909408\n",
       "10  0.003132   neighbourhood_clear_rule      elasticNet  0.003492\n",
       "11  0.003132         nearest_neighbours      elasticNet  0.003492"
      ]
     },
     "execution_count": 3,
     "metadata": {},
     "output_type": "execute_result"
    }
   ],
   "source": [
    "# Display under-sampling results\n",
    "results = pd.read_csv('underSampleMetrics.csv')\n",
    "results.sort_values(by= ['avg_prcs'], ascending= False, inplace= True)\n",
    "results = results.iloc[:,1:]\n",
    "results.reset_index(drop= True, inplace= True)\n",
    "results\n",
    "# Neighbourhood algorithms do not accept ratio strategy, values are not realistic."
   ]
  },
  {
   "cell_type": "code",
   "execution_count": 4,
   "metadata": {},
   "outputs": [],
   "source": [
    "X_train, X_test, y_train, y_test = getdataset(df)\n",
    "X_train, y_train = KMeansUnderSample(X_train, y_train, strategy= 0.003492)"
   ]
  },
  {
   "cell_type": "code",
   "execution_count": 9,
   "metadata": {},
   "outputs": [],
   "source": [
    "def tune_OverSampling( X_train, y_train, X_test, y_test, methods, numStrategies=6 ):\n",
    "    '''\n",
    "        Similar to the previous, this time instead of yielding a plot\n",
    "        a DataFrame is constructed with the optimal over/under-sampling size.\n",
    "    '''\n",
    "    # Handle if not list\n",
    "    if type(methods) is not list: methods = [ methods ]\n",
    "    \n",
    "    if type(y_train) != pd.core.series.Series: # type check to be abe to us VALUE_COUNTS\n",
    "        y_train = pd.Series( y_train )\n",
    "    \n",
    "    # Shrink_factors\n",
    "    Nmin = y_train.value_counts()[1] # number of observations in minority class\n",
    "    Nmaj = y_train.value_counts()[0] # #number of observations in majorit class\n",
    "    factor = np.linspace(1.1, Nmaj/Nmin, numStrategies) # factors to expand minority class\n",
    "    strategy = (Nmin/Nmaj)*factor \n",
    "    \n",
    "    \n",
    "    # iterate over methods/ models and plot avg precision\n",
    "    models = [xgboost_model]\n",
    "    rows = []\n",
    "    for method in methods:\n",
    "        for model in models:\n",
    "            ratios = []\n",
    "            avg = []\n",
    "            for ratio in strategy:\n",
    "                if (method == adasyn_method) and (ratio < 0.0047133): # limit value before throwing ValueError discovered\n",
    "                    continue\n",
    "                else:\n",
    "                    X_res, y_res = method( X_train, y_train, strategy= ratio )\n",
    "                    y_pred = model(X_res, y_res, X_test.values)\n",
    "                    avg.append( average_precision_score(y_test, y_pred) )\n",
    "                    ratios.append( ratio )\n",
    "            method_name = re.search(r\"\\s\\w*\", str(method))[0]\n",
    "            model_name = re.search(r\"\\s\\w*\", str(model))[0]\n",
    "            # Find the ratio that maximizes the assessment metric\n",
    "            t1 = {'method':method_name, 'model':model_name}\n",
    "            t2 = [{'ratio':ratios[maxInd], 'avg_prcs':maxVal} for maxInd, maxVal in enumerate( avg ) if maxVal == max(avg)]\n",
    "            rows.append( {**t1, **t2[0]} ) # concatenate in one dict\n",
    "    return pd.DataFrame( rows )"
   ]
  },
  {
   "cell_type": "code",
   "execution_count": 10,
   "metadata": {},
   "outputs": [],
   "source": [
    "overMethods = [smote_simple, smote_borderline, adasyn_method]\n",
    "results_2 = tune_OverSampling( X_train, y_train, X_test, y_test, overMethods, numStrategies=12 )\n",
    "results_2.to_csv('overSampleMetrics.csv')"
   ]
  },
  {
   "cell_type": "code",
   "execution_count": 11,
   "metadata": {},
   "outputs": [
    {
     "data": {
      "text/html": [
       "<div>\n",
       "<style scoped>\n",
       "    .dataframe tbody tr th:only-of-type {\n",
       "        vertical-align: middle;\n",
       "    }\n",
       "\n",
       "    .dataframe tbody tr th {\n",
       "        vertical-align: top;\n",
       "    }\n",
       "\n",
       "    .dataframe thead th {\n",
       "        text-align: right;\n",
       "    }\n",
       "</style>\n",
       "<table border=\"1\" class=\"dataframe\">\n",
       "  <thead>\n",
       "    <tr style=\"text-align: right;\">\n",
       "      <th></th>\n",
       "      <th>avg_prcs</th>\n",
       "      <th>method</th>\n",
       "      <th>model</th>\n",
       "      <th>ratio</th>\n",
       "    </tr>\n",
       "  </thead>\n",
       "  <tbody>\n",
       "    <tr>\n",
       "      <th>0</th>\n",
       "      <td>0.797529</td>\n",
       "      <td>smote_borderline</td>\n",
       "      <td>xgboost_model</td>\n",
       "      <td>0.003841</td>\n",
       "    </tr>\n",
       "    <tr>\n",
       "      <th>1</th>\n",
       "      <td>0.692100</td>\n",
       "      <td>smote_simple</td>\n",
       "      <td>xgboost_model</td>\n",
       "      <td>0.003841</td>\n",
       "    </tr>\n",
       "    <tr>\n",
       "      <th>2</th>\n",
       "      <td>0.502190</td>\n",
       "      <td>adasyn_method</td>\n",
       "      <td>xgboost_model</td>\n",
       "      <td>0.094401</td>\n",
       "    </tr>\n",
       "  </tbody>\n",
       "</table>\n",
       "</div>"
      ],
      "text/plain": [
       "   avg_prcs             method           model     ratio\n",
       "0  0.797529   smote_borderline   xgboost_model  0.003841\n",
       "1  0.692100       smote_simple   xgboost_model  0.003841\n",
       "2  0.502190      adasyn_method   xgboost_model  0.094401"
      ]
     },
     "execution_count": 11,
     "metadata": {},
     "output_type": "execute_result"
    }
   ],
   "source": [
    "# Display under-sampling results\n",
    "results_2 = pd.read_csv('overSampleMetrics.csv')\n",
    "results_2.sort_values(by= ['avg_prcs'], ascending= False, inplace= True)\n",
    "results_2 = results_2.iloc[:,1:]\n",
    "results_2.reset_index(drop= True, inplace= True)\n",
    "results_2"
   ]
  },
  {
   "cell_type": "code",
   "execution_count": 12,
   "metadata": {},
   "outputs": [],
   "source": [
    "X_train, y_train = smote_borderline(X_train, y_train, strategy= 0.003841)"
   ]
  },
  {
   "cell_type": "code",
   "execution_count": null,
   "metadata": {},
   "outputs": [],
   "source": []
  }
 ],
 "metadata": {
  "kernelspec": {
   "display_name": "Python 3",
   "language": "python",
   "name": "python3"
  },
  "language_info": {
   "codemirror_mode": {
    "name": "ipython",
    "version": 3
   },
   "file_extension": ".py",
   "mimetype": "text/x-python",
   "name": "python",
   "nbconvert_exporter": "python",
   "pygments_lexer": "ipython3",
   "version": "3.7.4"
  }
 },
 "nbformat": 4,
 "nbformat_minor": 4
}
